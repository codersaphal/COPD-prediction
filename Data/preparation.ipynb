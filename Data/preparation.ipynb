{
 "cells": [
  {
   "cell_type": "markdown",
   "metadata": {},
   "source": [
    "# Data sources\n",
    "\n",
    "1. Health Data Portals - WHO, World Bank, Nepals Ministry of Health\n",
    "2. Research Papers - Google Scholar\n",
    "3. Public Datasets - Kaggle, Data.gov, Open Data Nepal,\n",
    "4. Hospitals and Clinics"
   ]
  },
  {
   "cell_type": "markdown",
   "metadata": {},
   "source": [
    "# REFERENCES\n",
    "\n",
    "1. https://www.thoracic.org/patients/patient-resources/resources/copd-intro.pdf\n",
    "2. https://www.who.int/home/search-results?indexCatalogue=genericsearchindex1&searchQuery=Chronic%20Obstructive%20Pulmonary%20Disease&wordsMode=AnyWord\n",
    "3. https://www.worldbank.org/en/search?q=Chronic+Obstructive+Pulmonary+Diseas\n",
    "4. https://www.dovepress.com/factors-associated-with-chronic-obstructive-pulmonary-diseases-in-nepa-peer-reviewed-fulltext-article-COPD\n",
    "5. https://www.tandfonline.com/doi/pdf/10.2147/COPD.S268110\n",
    "6. https://github.com/phenoflow/Chronic-Obstructive-Pulmonary-Disease---9387f040-1873-11ef-9de4-4d4ea830ad16?tab=readme-ov-file\n",
    "\n"
   ]
  }
 ],
 "metadata": {
  "language_info": {
   "name": "python"
  }
 },
 "nbformat": 4,
 "nbformat_minor": 2
}
